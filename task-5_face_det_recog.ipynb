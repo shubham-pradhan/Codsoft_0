{
 "cells": [
  {
   "cell_type": "code",
   "execution_count": 23,
   "metadata": {},
   "outputs": [],
   "source": [
    "import face_recognition\n",
    "import os\n",
    "import cv2"
   ]
  },
  {
   "cell_type": "code",
   "execution_count": 24,
   "metadata": {},
   "outputs": [],
   "source": [
    "training_set_path = \"D:/Developer's Box/CODSOFT internship/project-3_image and video recognition/dataset/images_to_train\"\n"
   ]
  },
  {
   "cell_type": "code",
   "execution_count": 25,
   "metadata": {},
   "outputs": [],
   "source": [
    "loaded_faces = []\n",
    "loaded_names = []\n",
    "\n",
    "for name in os.listdir(training_set_path):\n",
    "        # Load an image\n",
    "        image = face_recognition.load_image_file(f'{training_set_path}/{name}')\n",
    "\n",
    "        # Get 128-dimension face encoding\n",
    "        # Always returns a list of found faces, for this purpose we take first face only (assuming one face per image as you can't be twice on one image)\n",
    "        encoding = face_recognition.face_encodings(image)[0]\n",
    "        # Append encodings and name\n",
    "        loaded_faces.append(encoding)\n",
    "        loaded_names.append(name)\n"
   ]
  },
  {
   "cell_type": "code",
   "execution_count": 26,
   "metadata": {},
   "outputs": [],
   "source": [
    "cap=cv2.VideoCapture(0)\n",
    "camera=True\n",
    "\n",
    "while camera==True:\n",
    "    progress,frame=cap.read()\n",
    "\n",
    "    if not progress:\n",
    "        break\n",
    "\n",
    "    camface_locations = face_recognition.face_locations(frame)\n",
    "    camface_encodings= face_recognition.face_encodings(frame,camface_locations)\n",
    "    \n",
    "\n",
    "    #top,right,bottom,left    \n",
    "    for i in camface_encodings:\n",
    "        results = face_recognition.compare_faces(loaded_faces, i, tolerance=0.6)\n",
    "\n",
    "        match = None\n",
    "        if True in results:  # If at least one is true, get a name of first of found labels\n",
    "            match = loaded_names[results.index(True)]\n",
    "            # print(f' - {match} from {results}')\n",
    "\n",
    "            cv2.rectangle(frame, (camface_locations[0][3], camface_locations[0][0]), (camface_locations[0][1], camface_locations[0][2]), (0, 0, 255), 2)\n",
    "            cv2.putText(frame, match, (camface_locations[0][3] + 10, camface_locations[0][2] + 15), cv2.FONT_HERSHEY_SIMPLEX, 0.5, (200, 200, 100), 2)   #2= text thickness\n",
    "\n",
    "\n",
    "    cv2.imshow(\"scanner\",frame)\n",
    "    cv2.waitKey(1)\n",
    "        \n",
    "    if cv2.getWindowProperty(\"scanner\",cv2.WND_PROP_VISIBLE)<1:                  #makes the 'X' close button work \n",
    "        break\n",
    "\n",
    "cap.release()"
   ]
  }
 ],
 "metadata": {
  "kernelspec": {
   "display_name": "Python 3",
   "language": "python",
   "name": "python3"
  },
  "language_info": {
   "codemirror_mode": {
    "name": "ipython",
    "version": 3
   },
   "file_extension": ".py",
   "mimetype": "text/x-python",
   "name": "python",
   "nbconvert_exporter": "python",
   "pygments_lexer": "ipython3",
   "version": "3.9.5"
  },
  "orig_nbformat": 4
 },
 "nbformat": 4,
 "nbformat_minor": 2
}
